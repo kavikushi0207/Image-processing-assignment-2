{
  "nbformat": 4,
  "nbformat_minor": 0,
  "metadata": {
    "colab": {
      "provenance": [],
      "authorship_tag": "ABX9TyPlC1CvZJwCahxjsGG7eRqC",
      "include_colab_link": true
    },
    "kernelspec": {
      "name": "python3",
      "display_name": "Python 3"
    },
    "language_info": {
      "name": "python"
    }
  },
  "cells": [
    {
      "cell_type": "markdown",
      "metadata": {
        "id": "view-in-github",
        "colab_type": "text"
      },
      "source": [
        "<a href=\"https://colab.research.google.com/github/kavikushi0228/Image-processing-assignment-2/blob/main/IP_AS2_Q1.ipynb\" target=\"_parent\"><img src=\"https://colab.research.google.com/assets/colab-badge.svg\" alt=\"Open In Colab\"/></a>"
      ]
    },
    {
      "cell_type": "code",
      "source": [
        "import cv2\n",
        "import numpy as np\n",
        "import matplotlib.pyplot as plt\n",
        "from skimage import data\n",
        "from PIL import Image\n",
        "\n",
        "# create the image with two circles as before\n",
        "img = np.zeros((100, 100, 3), dtype=np.uint8)\n",
        "bg_color = (0, 0, 0)\n",
        "circle_color = (250, 190, 0)\n",
        "radius1 = 25\n",
        "radius2 = 10\n",
        "center1 = (30, 30)\n",
        "center2 = (70, 70)\n",
        "for i in range(100):\n",
        "    for j in range(100):\n",
        "        if ((i - center1[0])**2 + (j - center1[1])**2) <= radius1**2:\n",
        "            img[i, j] = circle_color\n",
        "        elif ((i - center2[0])**2 + (j - center2[1])**2) <= radius2**2:\n",
        "            img[i, j] = circle_color\n",
        "        else:\n",
        "            img[i, j] = bg_color\n",
        "\n",
        "# add Gaussian noise to the image\n",
        "mean = 0\n",
        "variance = 0.1\n",
        "sigma = np.sqrt(variance)\n",
        "noise = np.random.normal(mean, sigma, img.shape).astype(np.uint8)\n",
        "noisy_img = cv2.add(img, noise)\n",
        "\n",
        "# convert the image to grayscale\n",
        "gray_img = cv2.cvtColor(noisy_img, cv2.COLOR_BGR2GRAY)\n",
        "\n",
        "# apply Otsu's thresholding algorithm\n",
        "threshold, otsu_img = cv2.threshold(gray_img, 0, 255, cv2.THRESH_BINARY + cv2.THRESH_OTSU)\n",
        "\n",
        "# plot the original, noisy, and thresholded images\n",
        "plt.subplot(1, 3, 1)\n",
        "plt.imshow(cv2.cvtColor(img, cv2.COLOR_BGR2RGB))\n",
        "plt.title('Original')\n",
        "plt.subplot(1, 3, 2)\n",
        "plt.imshow(cv2.cvtColor(noisy_img, cv2.COLOR_BGR2RGB))\n",
        "plt.title('Noisy')\n",
        "plt.subplot(1, 3, 3)\n",
        "plt.imshow(otsu_img, cmap='gray')\n",
        "plt.title('Otsu Thresholding')\n",
        "plt.show()\n",
        "\n",
        "cv2.imwrite('generatedImage.png', img)"
      ],
      "metadata": {
        "colab": {
          "base_uri": "https://localhost:8080/",
          "height": 180
        },
        "id": "ZznKjtgwdo3p",
        "outputId": "33c33f93-9ced-4e38-f95d-723a5e4eb14d"
      },
      "execution_count": 17,
      "outputs": [
        {
          "output_type": "display_data",
          "data": {
            "text/plain": [
              "<Figure size 432x288 with 3 Axes>"
            ],
            "image/png": "[encoded data removed]"
          },
          "metadata": {
            "needs_background": "light"
          }
        },
        {
          "output_type": "execute_result",
          "data": {
            "text/plain": [
              "True"
            ]
          },
          "metadata": {},
          "execution_count": 17
        }
      ]
    }
  ]
}